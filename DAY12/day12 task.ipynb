{
 "cells": [
  {
   "cell_type": "markdown",
   "metadata": {},
   "source": [
    "Excerise"
   ]
  },
  {
   "cell_type": "markdown",
   "metadata": {},
   "source": [
    "Create a JSON of all object types and import the JSON into a SQL Database"
   ]
  },
  {
   "cell_type": "code",
   "execution_count": null,
   "metadata": {},
   "outputs": [],
   "source": [
    "import json\n",
    "a={\n",
    "    \"firstName\": \"Ajay\",\n",
    "    \"lastName\": \"Ram\",\n",
    "    \"hobbies\": [\"reading books\",\"playing games\",\"coding\"],\n",
    "    \"age\": 20,\n",
    "    \"TakenTest\": True,\n",
    "    \"average\": 0\n",
    "},{\n",
    "    \"firstName\": \"Ganesh\",\n",
    "    \"lastName\": \"Satya\",\n",
    "    \"hobbies\": [\"playing games\",\"escsaping for work\",\"fighting\"],\n",
    "    \"age\": 17,\n",
    "    \"TakenTest\": False,\n",
    "    \"average\": 0\n",
    "}\n",
    "with open(\"data.json\",\"w\") as f:\n",
    "    json.dump(a,f,indent=4)\n",
    "from pymongo import MongoClient\n",
    "myclient=MongoClient(\"mongodb://localhost:27017/\")\n",
    "db=myclient[\"mongdb\"]\n",
    "Collection=db[\"info\"]\n",
    "with open(\"data.json\") as f:\n",
    "    data=json.load(f)\n",
    "if isinstance(data,list):\n",
    "    Collection.insert_many(data)\n",
    "else:\n",
    "    Collection.insert_one(data)"
   ]
  },
  {
   "cell_type": "code",
   "execution_count": null,
   "metadata": {},
   "outputs": [],
   "source": []
  },
  {
   "cell_type": "code",
   "execution_count": null,
   "metadata": {},
   "outputs": [],
   "source": []
  },
  {
   "cell_type": "code",
   "execution_count": null,
   "metadata": {},
   "outputs": [],
   "source": []
  }
 ],
 "metadata": {
  "kernelspec": {
   "display_name": "Python 3",
   "language": "python",
   "name": "python3"
  },
  "language_info": {
   "codemirror_mode": {
    "name": "ipython",
    "version": 3
   },
   "file_extension": ".py",
   "mimetype": "text/x-python",
   "name": "python",
   "nbconvert_exporter": "python",
   "pygments_lexer": "ipython3",
   "version": "3.7.6"
  }
 },
 "nbformat": 4,
 "nbformat_minor": 4
}
