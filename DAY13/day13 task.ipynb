{
 "cells": [
  {
   "cell_type": "markdown",
   "metadata": {},
   "source": [
    "Exercise:"
   ]
  },
  {
   "cell_type": "code",
   "execution_count": null,
   "metadata": {},
   "outputs": [],
   "source": []
  },
  {
   "cell_type": "code",
   "execution_count": 1,
   "metadata": {},
   "outputs": [
    {
     "name": "stdout",
     "output_type": "stream",
     "text": [
      "-----Hellooo!!! Welcome to AJAY RAM COFFEE CAFE----\n"
     ]
    },
    {
     "name": "stdin",
     "output_type": "stream",
     "text": [
      "Enter the code(on or off): on\n",
      "What would you like to drink?\n",
      "1.Espresso\n",
      "2.Latte\n",
      "3.Cappuccino\t 1\n",
      "Do you want the report ? Yes or No\t yes\n"
     ]
    },
    {
     "name": "stdout",
     "output_type": "stream",
     "text": [
      "------------------Here is report------------------\n",
      "Water: 1000 ml\n",
      "Milk: 1000 ml\n",
      "Coffee: 1000 gm\n",
      "Money: $0\n",
      "-------------------Insert Coins-------------------\n"
     ]
    },
    {
     "name": "stdin",
     "output_type": "stream",
     "text": [
      "Quarter: 45\n",
      "Dimes: 64\n",
      "Nickles: 64\n",
      "Pennies: 34\n"
     ]
    },
    {
     "name": "stdout",
     "output_type": "stream",
     "text": [
      "Your payment is sucsessful\n",
      "Collect your change $17.69 dollars\n",
      "------Here is your Espresso.Enjoy!------\n"
     ]
    },
    {
     "name": "stdin",
     "output_type": "stream",
     "text": [
      "Do you want the report ? Yes or No\t yes\n"
     ]
    },
    {
     "name": "stdout",
     "output_type": "stream",
     "text": [
      "------------------Here is report------------------\n",
      "Water: 950 ml\n",
      "Milk: 775 ml\n",
      "Coffee: 980 gm\n",
      "Money: $3.5\n"
     ]
    },
    {
     "name": "stdin",
     "output_type": "stream",
     "text": [
      "Do you wanna continue to enjoy our coffee: YES or NO yes\n",
      "What would you like to drink?\n",
      "1.Espresso\n",
      "2.Latte\n",
      "3.Cappuccino\t 3\n",
      "Do you want the report ? Yes or No\t no\n"
     ]
    },
    {
     "name": "stdout",
     "output_type": "stream",
     "text": [
      "-------------------Insert Coins-------------------\n"
     ]
    },
    {
     "name": "stdin",
     "output_type": "stream",
     "text": [
      "Quarter: 78\n",
      "Dimes: 43\n",
      "Nickles: 65\n",
      "Pennies: 654\n"
     ]
    },
    {
     "name": "stdout",
     "output_type": "stream",
     "text": [
      "Your payment is sucsessful\n",
      "Collect your change $27.09 dollars\n",
      "------Here is your Cappuccino.Enjoy!------\n"
     ]
    },
    {
     "name": "stdin",
     "output_type": "stream",
     "text": [
      "Do you want the report ? Yes or No\t yes\n"
     ]
    },
    {
     "name": "stdout",
     "output_type": "stream",
     "text": [
      "------------------Here is report------------------\n",
      "Water: 900 ml\n",
      "Milk: 575 ml\n",
      "Coffee: 960 gm\n",
      "Money: $6.5\n"
     ]
    },
    {
     "name": "stdin",
     "output_type": "stream",
     "text": [
      "Do you wanna continue to enjoy our coffee: YES or NO no\n"
     ]
    },
    {
     "name": "stdout",
     "output_type": "stream",
     "text": [
      "******Visit Again for more fun!!!*******\n"
     ]
    },
    {
     "name": "stdin",
     "output_type": "stream",
     "text": [
      "Enter the code(on or off): off\n"
     ]
    },
    {
     "name": "stdout",
     "output_type": "stream",
     "text": [
      "Machine is offed for maintenance\n"
     ]
    }
   ],
   "source": [
    "Tot_water = 1000\n",
    "Tot_milk = 1000\n",
    "Tot_coffee = 1000\n",
    "class CoffeeMachine:\n",
    "    '''\n",
    "    This is a coffee machine.\n",
    "    '''\n",
    "    def __init__(self,name):\n",
    "        self.name=name\n",
    "        self.money=0\n",
    "\n",
    "    def resource_check(self,water,milk,coffee):\n",
    "        global Tot_water\n",
    "        global Tot_milk\n",
    "        global Tot_coffee\n",
    "        self.water,self.milk,self.coffee=water,milk,coffee\n",
    "        if Tot_water >= self.water:\n",
    "            if Tot_milk >=self.milk :\n",
    "                if Tot_coffee >= self.coffee :\n",
    "                    Tot_water=Tot_water-self.water\n",
    "                    Tot_milk=Tot_milk-self.milk\n",
    "                    Tot_coffee=Tot_coffee-self.coffee\n",
    "                    return True\n",
    "                else:\n",
    "                        print(\"Sorry! There is no sufficient coffee powder\")\n",
    "                        return False\n",
    "            else:\n",
    "                    print(\"Sorry! There is no sufficient Milk\")\n",
    "                    return False\n",
    "        else:\n",
    "                print(\"Sorry! There is no sufficient Water\")\n",
    "                return False\n",
    "    def report(self,mon):\n",
    "        self.mon=mon   \n",
    "        rep=\"Here is report\"\n",
    "        print(rep.center(50,\"-\"))\n",
    "        print(\"Water:\",Tot_water,\"ml\")\n",
    "        print(\"Milk:\",Tot_milk,\"ml\")\n",
    "        print(\"Coffee:\",Tot_coffee,\"gm\")\n",
    "        print(f\"Money: ${self.mon}\")\n",
    "    def payment(self):\n",
    "            st=\"Insert Coins\" \n",
    "            print(st.center(50,\"-\"))\n",
    "            quarter,dimes,nickles,pennies,=int(input(\"Quarter:\")),int(input(\"Dimes:\")),int(input(\"Nickles:\")),int(input(\"Pennies:\"))\n",
    "            cus_money=0.25*quarter+0.1*dimes+0.05*nickles+0.01*pennies\n",
    "            if cus_money ==self.money:\n",
    "                print(\"Your Payment is successful\")\n",
    "                return True\n",
    "            elif    cus_money >=self.money:\n",
    "                self.money = cus_money - self.money\n",
    "                print(\"Your payment is sucsessful\")\n",
    "                print(f\"Collect your change ${self.money:.2f} dollars\")\n",
    "                return True\n",
    "            else:\n",
    "                print(\"Sorry!! You don't have enough money\")\n",
    "                print(f\" Sorry your money is refunded{cus_money:.2f}\")\n",
    "                return False\n",
    "    def make_coffee(self):\n",
    "        print(f\"------Here is your {self.name}.Enjoy!------\")\n",
    "        return True\n",
    "def repo(mon):\n",
    "    want=input(\"Do you want the report ? Yes or No\\t\")\n",
    "    if want in[\"YES\",\"yes\",\"Y\",\"y\"]:\n",
    "        return obj.report(mon)\n",
    "    else:\n",
    "        pass\n",
    "\n",
    "str=\"Hellooo!!! Welcome to AJAY RAM COFFEE CAFE\"\n",
    "print(str.center(51,\"-\"))\n",
    "while True:\n",
    "    machine = input(\"Enter the code(on or off):\")\n",
    "    if machine==\"on\":\n",
    "        while True:\n",
    "            choice=int(input(\"What would you like to drink?\\n1.Espresso\\n2.Latte\\n3.Cappuccino\\t\"))\n",
    "            if choice==1:\n",
    "                obj=CoffeeMachine(\"Espresso\")\n",
    "                repo(0)\n",
    "                obj.money=3.5\n",
    "                if obj.resource_check(50,225,20)==True:\n",
    "                   if obj.payment()==True:\n",
    "                       if obj.make_coffee()==True:\n",
    "                           repo(3.5)\n",
    "\n",
    "            elif choice==2:\n",
    "                obj=CoffeeMachine(\"Latte\")\n",
    "                repo(0)\n",
    "                obj.money=4.5\n",
    "                if obj.resource_check(50,200,16)==True:\n",
    "                   if obj.payment()==True:\n",
    "                       if obj.make_coffee()==True:\n",
    "                           repo(4.5)\n",
    "            elif choice==3:\n",
    "                obj=CoffeeMachine(\"Cappuccino\")\n",
    "                repo(0)\n",
    "                obj.money=6.5\n",
    "                if obj.resource_check(50,200,20)==True:\n",
    "                   if obj.payment()==True:\n",
    "                       if obj.make_coffee()==True:\n",
    "                           repo(6.5)\n",
    "            else:\n",
    "                print(\"Sorry!!..Please Enter the correct choice\")\n",
    "\n",
    "            cont=input(\"Do you wanna continue to enjoy our coffee: YES or NO\")\n",
    "            if cont in[\"YES\",\"yes\",\"Y\",\"y\"]:\n",
    "                pass\n",
    "            else:\n",
    "                break\n",
    "        a=\"Visit Again for more fun!!!\"\n",
    "        print(a.center(40,\"*\"))\n",
    "    else:\n",
    "        print(\"Machine is offed for maintenance\")\n",
    "        break"
   ]
  },
  {
   "cell_type": "code",
   "execution_count": null,
   "metadata": {},
   "outputs": [],
   "source": []
  }
 ],
 "metadata": {
  "kernelspec": {
   "display_name": "Python 3",
   "language": "python",
   "name": "python3"
  },
  "language_info": {
   "codemirror_mode": {
    "name": "ipython",
    "version": 3
   },
   "file_extension": ".py",
   "mimetype": "text/x-python",
   "name": "python",
   "nbconvert_exporter": "python",
   "pygments_lexer": "ipython3",
   "version": "3.7.6"
  }
 },
 "nbformat": 4,
 "nbformat_minor": 4
}
