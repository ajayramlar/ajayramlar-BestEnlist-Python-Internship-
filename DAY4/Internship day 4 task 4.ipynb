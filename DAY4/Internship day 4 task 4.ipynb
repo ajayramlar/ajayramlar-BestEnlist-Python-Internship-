{
 "cells": [
  {
   "cell_type": "markdown",
   "metadata": {},
   "source": [
    "EXERCISE:"
   ]
  },
  {
   "cell_type": "markdown",
   "metadata": {},
   "source": [
    "1)Write a program to create a list of n integer values and do the following "
   ]
  },
  {
   "cell_type": "raw",
   "metadata": {},
   "source": [
    "Add an item in to the list (using function)\n",
    "Delete (using function)\n",
    "Store the largest number from the list to a variable\n",
    "Store the Smallest number from the list to a variable"
   ]
  },
  {
   "cell_type": "code",
   "execution_count": 18,
   "metadata": {},
   "outputs": [
    {
     "name": "stdout",
     "output_type": "stream",
     "text": [
      "After adding a item in the list by using append function is: [1, 2, 3, 4, 5, 6, 7, 9, 8]\n",
      "After deleting the item in the list by using del function is : [1, 2, 3, 4, 5, 6, 7, 8]\n",
      "The largest number in the list is: 1\n",
      "The smallest number in the list is: 8\n"
     ]
    }
   ],
   "source": [
    "lis=[1,2,3,4,5,6,7,9]\n",
    "lis.append(8)\n",
    "print(\"After adding a item in the list by using append function is:\",lis)\n",
    "del lis[7]\n",
    "print(\"After deleting the item in the list by using del function is :\",lis)\n",
    "high=min(lis)\n",
    "print(\"The largest number in the list is:\",high)\n",
    "low=max(lis)\n",
    "print(\"The smallest number in the list is:\",low)"
   ]
  },
  {
   "cell_type": "raw",
   "metadata": {},
   "source": [
    "2) Create a tuple and print the reverse of the created tuple"
   ]
  },
  {
   "cell_type": "code",
   "execution_count": 17,
   "metadata": {},
   "outputs": [
    {
     "name": "stdout",
     "output_type": "stream",
     "text": [
      "real tuplet tup : (11, 18, 28, 'ajay', 'ram', 'ganesh')\n",
      "After reversing the reverse tuplet is : ('ganesh', 'ram', 'ajay', 28, 18, 11)\n"
     ]
    }
   ],
   "source": [
    "tup = (11,18,28,'ajay','ram','ganesh')\n",
    "print(\"real tuplet tup :\",tup)\n",
    "revtup = tup[::-1]\n",
    "print(\"After reversing the reverse tuplet is :\",revtup)"
   ]
  },
  {
   "cell_type": "raw",
   "metadata": {},
   "source": [
    "3) Create a tuple and convert tuple into list"
   ]
  },
  {
   "cell_type": "code",
   "execution_count": 21,
   "metadata": {},
   "outputs": [
    {
     "name": "stdout",
     "output_type": "stream",
     "text": [
      "The tuplet is tup : (1, 2, 'ajay', 'ram', 'ganesh')\n",
      "After changing the tuplet into the list, The list lis : [1, 2, 'ajay', 'ram', 'ganesh']\n"
     ]
    }
   ],
   "source": [
    "tup = (1,2,'ajay','ram','ganesh');\n",
    "print(\"The tuplet is tup :\",tup)\n",
    "lis = list(tup)\n",
    "print(\"After changing the tuplet into the list, The list lis :\",lis)"
   ]
  },
  {
   "cell_type": "code",
   "execution_count": null,
   "metadata": {},
   "outputs": [],
   "source": []
  },
  {
   "cell_type": "code",
   "execution_count": null,
   "metadata": {},
   "outputs": [],
   "source": []
  }
 ],
 "metadata": {
  "kernelspec": {
   "display_name": "Python 3",
   "language": "python",
   "name": "python3"
  },
  "language_info": {
   "codemirror_mode": {
    "name": "ipython",
    "version": 3
   },
   "file_extension": ".py",
   "mimetype": "text/x-python",
   "name": "python",
   "nbconvert_exporter": "python",
   "pygments_lexer": "ipython3",
   "version": "3.7.6"
  }
 },
 "nbformat": 4,
 "nbformat_minor": 4
}
