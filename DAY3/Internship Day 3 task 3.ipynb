{
 "cells": [
  {
   "cell_type": "markdown",
   "metadata": {},
   "source": [
    "Excerise:"
   ]
  },
  {
   "cell_type": "markdown",
   "metadata": {},
   "source": [
    "1)Write a Python script to merge two Python dictionaries"
   ]
  },
  {
   "cell_type": "code",
   "execution_count": 4,
   "metadata": {},
   "outputs": [
    {
     "name": "stdout",
     "output_type": "stream",
     "text": [
      "{'a': 100, 'j': 200, 'x': 300, 'y': 400}\n"
     ]
    }
   ],
   "source": [
    "dir1 = {'a': 100, 'j': 200}\n",
    "dir2 = {'x': 300, 'y': 400}\n",
    "comdir = dir1.copy()\n",
    "comdir.update(dir2)\n",
    "print(comdir)"
   ]
  },
  {
   "cell_type": "markdown",
   "metadata": {},
   "source": [
    "2)Write a Python program to remove a key from a dictionary"
   ]
  },
  {
   "cell_type": "code",
   "execution_count": 5,
   "metadata": {},
   "outputs": [
    {
     "name": "stdout",
     "output_type": "stream",
     "text": [
      "{'a': 100, 'j': 200, 'r': 300, 'y': 400}\n",
      "{'j': 200, 'r': 300, 'y': 400}\n"
     ]
    }
   ],
   "source": [
    "Dic = {'a':100,'j':200,'r':300,'y':400}\n",
    "print(Dic)\n",
    "if 'a' in Dic:\n",
    "    del Dic['a']\n",
    "    print(Dic)"
   ]
  },
  {
   "cell_type": "markdown",
   "metadata": {},
   "source": [
    "3)Write a Python program to map two lists into a dictionary"
   ]
  },
  {
   "cell_type": "code",
   "execution_count": 7,
   "metadata": {},
   "outputs": [
    {
     "name": "stdout",
     "output_type": "stream",
     "text": [
      "{'ajay': 123, 'ram': 456, 'ganesh': 789}\n"
     ]
    }
   ],
   "source": [
    "names = ['ajay', 'ram', 'ganesh']\n",
    "numbers = [123,456, 789]\n",
    "names_dictionary = dict(zip(names, numbers))\n",
    "print(names_dictionary)"
   ]
  },
  {
   "cell_type": "markdown",
   "metadata": {},
   "source": [
    "4)Write a Python program to find the length of a set"
   ]
  },
  {
   "cell_type": "code",
   "execution_count": 9,
   "metadata": {},
   "outputs": [
    {
     "name": "stdout",
     "output_type": "stream",
     "text": [
      "8\n"
     ]
    }
   ],
   "source": [
    "a = set([1, 2,3, 4, 5, 6,7,100])\n",
    "print(len(a))"
   ]
  },
  {
   "cell_type": "markdown",
   "metadata": {},
   "source": [
    "5)Write a Python program to remove the intersection of a 2nd set from the 1st set"
   ]
  },
  {
   "cell_type": "code",
   "execution_count": 19,
   "metadata": {},
   "outputs": [
    {
     "name": "stdout",
     "output_type": "stream",
     "text": [
      "{11, 13, 21, 56, 63}\n",
      "{1, 100, 8, 75, 63}\n",
      "{11, 13, 21, 56}\n",
      "{6, 7, 8}\n"
     ]
    }
   ],
   "source": [
    "a = {11,13,21,56,63}\n",
    "b = {63,75,100,1,8}\n",
    "print(a)\n",
    "print(b)\n",
    "a.difference_update(b)\n",
    "print(a)\n",
    "a = {1,2,3,4,5}\n",
    "b = {4,5,6,7,8}\n",
    "b.difference_update(a)\n",
    "print(b)\n"
   ]
  },
  {
   "cell_type": "code",
   "execution_count": null,
   "metadata": {},
   "outputs": [],
   "source": []
  }
 ],
 "metadata": {
  "kernelspec": {
   "display_name": "Python 3",
   "language": "python",
   "name": "python3"
  },
  "language_info": {
   "codemirror_mode": {
    "name": "ipython",
    "version": 3
   },
   "file_extension": ".py",
   "mimetype": "text/x-python",
   "name": "python",
   "nbconvert_exporter": "python",
   "pygments_lexer": "ipython3",
   "version": "3.7.6"
  }
 },
 "nbformat": 4,
 "nbformat_minor": 4
}
