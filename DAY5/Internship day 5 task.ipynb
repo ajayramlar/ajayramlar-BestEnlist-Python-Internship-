{
 "cells": [
  {
   "cell_type": "markdown",
   "metadata": {},
   "source": [
    "Exercise:"
   ]
  },
  {
   "cell_type": "markdown",
   "metadata": {},
   "source": [
    "1)Create a function getting two integer inputs from user. & print the following:\n",
    "        Addition of two numbers is +value\n",
    "        Subtraction of two numbers is +value\n",
    "        Division of two numbers is +value\n",
    "        Multiplication of two numbers is +value\n",
    "    Here the value represents math function associated"
   ]
  },
  {
   "cell_type": "code",
   "execution_count": 7,
   "metadata": {},
   "outputs": [
    {
     "name": "stdout",
     "output_type": "stream",
     "text": [
      "Enter a number for first integer\n"
     ]
    },
    {
     "name": "stdin",
     "output_type": "stream",
     "text": [
      " 10\n"
     ]
    },
    {
     "name": "stdout",
     "output_type": "stream",
     "text": [
      "10\n",
      "Enter a number for second integer\n"
     ]
    },
    {
     "name": "stdin",
     "output_type": "stream",
     "text": [
      " 5\n"
     ]
    },
    {
     "name": "stdout",
     "output_type": "stream",
     "text": [
      "5\n",
      "The addition of two numbers is 15\n",
      "The Subtraction of two numbers is 5\n",
      "The Division of two numbers is 2.0\n",
      "The multipication of two numbers is 50\n"
     ]
    }
   ],
   "source": [
    "print(\"Enter a number for first integer\")\n",
    "a = int(input())\n",
    "print(a);\n",
    "print(\"Enter a number for second integer\")\n",
    "b = int(input())\n",
    "print(b)\n",
    "print(\"The addition of two numbers is\",a+b)\n",
    "print(\"The Subtraction of two numbers is\",a-b)\n",
    "print(\"The Division of two numbers is\",a/b)\n",
    "print(\"The multipication of two numbers is\",a*b)"
   ]
  },
  {
   "cell_type": "markdown",
   "metadata": {},
   "source": [
    "Create a function covid( ) & it should accept patient name, and body temperature, by default the body temperature should be 98 degree"
   ]
  },
  {
   "cell_type": "code",
   "execution_count": 23,
   "metadata": {},
   "outputs": [
    {
     "name": "stdout",
     "output_type": "stream",
     "text": [
      "Patient name:\n"
     ]
    },
    {
     "name": "stdin",
     "output_type": "stream",
     "text": [
      "None Ajay ram\n"
     ]
    },
    {
     "name": "stdout",
     "output_type": "stream",
     "text": [
      "The temp of the patient is\n"
     ]
    },
    {
     "name": "stdin",
     "output_type": "stream",
     "text": [
      "None 55\n"
     ]
    },
    {
     "name": "stdout",
     "output_type": "stream",
     "text": [
      "The patient name is  Ajay ram\n",
      "The tempature of the patient is  98\n"
     ]
    }
   ],
   "source": [
    "patient_temp = 98\n",
    "def covid():\n",
    "    patient_name = input(print(\"Patient name:\"))\n",
    "    patient_temp = int(input(print(\"The temp of the patient is\")))\n",
    "    print(\"The patient name is \",patient_name)\n",
    "covid()\n",
    "print(\"The tempature of the patient is \",patient_temp)"
   ]
  },
  {
   "cell_type": "code",
   "execution_count": null,
   "metadata": {},
   "outputs": [],
   "source": []
  }
 ],
 "metadata": {
  "kernelspec": {
   "display_name": "Python 3",
   "language": "python",
   "name": "python3"
  },
  "language_info": {
   "codemirror_mode": {
    "name": "ipython",
    "version": 3
   },
   "file_extension": ".py",
   "mimetype": "text/x-python",
   "name": "python",
   "nbconvert_exporter": "python",
   "pygments_lexer": "ipython3",
   "version": "3.7.6"
  }
 },
 "nbformat": 4,
 "nbformat_minor": 4
}
