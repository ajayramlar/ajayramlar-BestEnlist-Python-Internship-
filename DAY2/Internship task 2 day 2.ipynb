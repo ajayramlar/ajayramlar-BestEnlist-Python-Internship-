{
 "cells": [
  {
   "cell_type": "markdown",
   "metadata": {},
   "source": [
    "Day 2 – VARIABLEs & DATA Types\n"
   ]
  },
  {
   "cell_type": "markdown",
   "metadata": {},
   "source": [
    "Variables:\n",
    "A variable is initially declared to have a specific data type, and any value assigned to it during its lifetime must always have that type, a variable may be assigned a value of one type and then later re-assigned a value of a different type\t\n"
   ]
  },
  {
   "cell_type": "markdown",
   "metadata": {},
   "source": [
    "Exercise:\n"
   ]
  },
  {
   "cell_type": "markdown",
   "metadata": {},
   "source": [
    "1)Create three variables (a,b,c) to same value of any integer & do the following\n",
    "    a)Divide a by 10\n",
    "    b)Multiply b by 50\n",
    "    c)Add c value by 60"
   ]
  },
  {
   "cell_type": "code",
   "execution_count": 1,
   "metadata": {},
   "outputs": [
    {
     "name": "stdout",
     "output_type": "stream",
     "text": [
      "2.5\n",
      "1250\n",
      "85\n"
     ]
    }
   ],
   "source": [
    "a=b=c=25\n",
    "print(a/10)\n",
    "print(b*50)\n",
    "print(c+60)\n"
   ]
  },
  {
   "cell_type": "markdown",
   "metadata": {},
   "source": [
    "2)Create a String variable of 5 characters  and replace the 3rd character with G"
   ]
  },
  {
   "cell_type": "code",
   "execution_count": 2,
   "metadata": {},
   "outputs": [
    {
     "name": "stdout",
     "output_type": "stream",
     "text": [
      "LEGEL\n"
     ]
    }
   ],
   "source": [
    "sta=\"LEVEL\"\n",
    "a=\"G\"\n",
    "sta=sta[:2]+a+sta[3:]\n",
    "print(sta)\n"
   ]
  },
  {
   "cell_type": "markdown",
   "metadata": {},
   "source": [
    "3)Create two values (a,b) of int,float data type & convert the vise versa, Hint : convert a from int to float datatype & b from float to int datatype "
   ]
  },
  {
   "cell_type": "code",
   "execution_count": 6,
   "metadata": {},
   "outputs": [
    {
     "name": "stdout",
     "output_type": "stream",
     "text": [
      "11\n",
      "10.0\n"
     ]
    }
   ],
   "source": [
    "a = 10\n",
    "b = 11.1\n",
    "b=int(b)\n",
    "a=float(a)\n",
    "print(b)\n",
    "print(a)\n"
   ]
  },
  {
   "cell_type": "code",
   "execution_count": null,
   "metadata": {},
   "outputs": [],
   "source": []
  }
 ],
 "metadata": {
  "kernelspec": {
   "display_name": "Python 3",
   "language": "python",
   "name": "python3"
  },
  "language_info": {
   "codemirror_mode": {
    "name": "ipython",
    "version": 3
   },
   "file_extension": ".py",
   "mimetype": "text/x-python",
   "name": "python",
   "nbconvert_exporter": "python",
   "pygments_lexer": "ipython3",
   "version": "3.7.6"
  }
 },
 "nbformat": 4,
 "nbformat_minor": 4
}
