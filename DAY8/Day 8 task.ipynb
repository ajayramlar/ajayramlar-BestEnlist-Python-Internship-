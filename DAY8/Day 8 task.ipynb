{
 "cells": [
  {
   "cell_type": "markdown",
   "metadata": {},
   "source": [
    "Exercise:"
   ]
  },
  {
   "cell_type": "markdown",
   "metadata": {},
   "source": [
    "List down all the error types and check all the errors using a python program for all errors"
   ]
  },
  {
   "cell_type": "code",
   "execution_count": 9,
   "metadata": {},
   "outputs": [
    {
     "name": "stdout",
     "output_type": "stream",
     "text": [
      "Types of errors\n",
      "1.Index error\n",
      "Index not found in array\n",
      "2.Key error\n",
      "Key not found in dictionary\n",
      "3.ModuleNotFoundError\n",
      "4.ZeroDivisionError\n",
      "Unable to Divide By Zero\n"
     ]
    }
   ],
   "source": [
    "print(\"Types of errors\")\n",
    "\n",
    "print(\"1.Index error\")\n",
    "arr = [11,25,35]\n",
    "try:\n",
    "    print(arr[35])\n",
    "except IndexError:\n",
    "    print('Index not found in array')\n",
    "\n",
    "print(\"2.Key error\")\n",
    "dicti = {\"1\" : 1, \"2\" : 2, \"3\" : 3}\n",
    "try:\n",
    "    print(dicti[\"4\"])\n",
    "except KeyError:\n",
    "    print('Key not found in dictionary')\n",
    "    \n",
    "print(\"3.ModuleNotFoundError\")\n",
    "try:\n",
    "    import numpy\n",
    "except ModuleNotFoundError:\n",
    "    print(\"Module not found\")\n",
    "    \n",
    "print(\"4.ZeroDivisionError\")\n",
    "try:\n",
    "    print(1 / 0)\n",
    "except ZeroDivisionError:\n",
    "    print(\"Unable to Divide By Zero\")\n",
    "\n"
   ]
  },
  {
   "cell_type": "markdown",
   "metadata": {},
   "source": [
    "2.Design a simple calculator app with try and except for all use cases"
   ]
  },
  {
   "cell_type": "code",
   "execution_count": 22,
   "metadata": {},
   "outputs": [
    {
     "name": "stdin",
     "output_type": "stream",
     "text": [
      "Enter a number : 5\n"
     ]
    },
    {
     "name": "stdout",
     "output_type": "stream",
     "text": [
      "+ - x / \n",
      "\n"
     ]
    },
    {
     "name": "stdin",
     "output_type": "stream",
     "text": [
      "Enter the operator for the calculation /\n",
      "Enter other number: 0\n"
     ]
    },
    {
     "name": "stdout",
     "output_type": "stream",
     "text": [
      "Unable to Divide by Zero (0) !\n"
     ]
    }
   ],
   "source": [
    "operators = '+ - x / \\n'\n",
    "try:\n",
    "    num1 = int(input(\"Enter a number :\"))\n",
    "    print(operators)\n",
    "    taken_symbol=input(\"Enter the operator for the calculation\")\n",
    "    num2 = int(input(\"Enter other number:\"))\n",
    "    \n",
    "    if taken_symbol in operators:\n",
    "        if taken_symbol=='+':\n",
    "            print(num1,'+',num2,'=',num1+num2)\n",
    "        elif taken_symbol=='-':\n",
    "            print(num1,'-',num2,'=',num1-num2)\n",
    "        elif taken_symbol=='x':\n",
    "            print(num1,'x',num2,'=',num1*num2)\n",
    "        elif taken_symbol=='/':\n",
    "            print(num1,'/',num2,'=',num1/num2)\n",
    "except ValueError:\n",
    "     print(\"Enter Proper Numbers For Input!\")\n",
    "except ZeroDivisionError:\n",
    "    print(\"Unable to Divide by Zero (0) !\")"
   ]
  },
  {
   "cell_type": "markdown",
   "metadata": {},
   "source": [
    "3.print one message if the try block raises a NameError and another for other errors"
   ]
  },
  {
   "cell_type": "code",
   "execution_count": 24,
   "metadata": {},
   "outputs": [
    {
     "name": "stdout",
     "output_type": "stream",
     "text": [
      "a is not defined\n"
     ]
    }
   ],
   "source": [
    "try:\n",
    "    print(a)\n",
    "except NameError:\n",
    "      print(\"a is not defined\")\n"
   ]
  },
  {
   "cell_type": "markdown",
   "metadata": {},
   "source": [
    "4.When try-except scenario is not required?"
   ]
  },
  {
   "cell_type": "markdown",
   "metadata": {},
   "source": [
    "try-except scenario is not required if you are not going to have any runtime error in your python program. if there is any possibility that there might exist a runtime error, you must use a try - except scenario in order to avoid a crash, and guide the user with proper message.\n",
    "\n"
   ]
  },
  {
   "cell_type": "markdown",
   "metadata": {},
   "source": [
    "Try getting an input inside the try catch block"
   ]
  },
  {
   "cell_type": "code",
   "execution_count": null,
   "metadata": {},
   "outputs": [],
   "source": [
    "try:\n",
    "    num = int(input(\"Enter a value: \"))\n",
    "except ValueError:\n",
    "    print(\"Value error - Invalid Input\")"
   ]
  }
 ],
 "metadata": {
  "kernelspec": {
   "display_name": "Python 3",
   "language": "python",
   "name": "python3"
  },
  "language_info": {
   "codemirror_mode": {
    "name": "ipython",
    "version": 3
   },
   "file_extension": ".py",
   "mimetype": "text/x-python",
   "name": "python",
   "nbconvert_exporter": "python",
   "pygments_lexer": "ipython3",
   "version": "3.7.6"
  }
 },
 "nbformat": 4,
 "nbformat_minor": 4
}
