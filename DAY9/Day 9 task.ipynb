{
 "cells": [
  {
   "cell_type": "markdown",
   "metadata": {},
   "source": [
    "Exercise:"
   ]
  },
  {
   "cell_type": "markdown",
   "metadata": {},
   "source": [
    "Create a lambda function that multiplies argument x with argument y"
   ]
  },
  {
   "cell_type": "code",
   "execution_count": 1,
   "metadata": {},
   "outputs": [
    {
     "name": "stdin",
     "output_type": "stream",
     "text": [
      "enter a number 5\n",
      "enter the second number 25\n"
     ]
    },
    {
     "name": "stdout",
     "output_type": "stream",
     "text": [
      "125\n"
     ]
    }
   ],
   "source": [
    "l =lambda x, y: x*y\n",
    "x = int(input(\"enter the first number\"))\n",
    "y = int(input(\"enter the second number\"))\n",
    "print(l(x,y))\n"
   ]
  },
  {
   "cell_type": "markdown",
   "metadata": {},
   "source": [
    "Write a Python program to create Fibonacci series to n using Lambda"
   ]
  },
  {
   "cell_type": "code",
   "execution_count": 3,
   "metadata": {},
   "outputs": [
    {
     "name": "stdout",
     "output_type": "stream",
     "text": [
      "[0, 1, 1, 2, 3, 5, 8, 13]\n"
     ]
    }
   ],
   "source": [
    "def fibonacci(a):\n",
    "   list1 = [0, 1]\n",
    "\n",
    "   any(map(lambda _:list1.append(sum(list1[-2:])),\n",
    "         range(2, a)))\n",
    "\n",
    "   return list1[:a]\n",
    "\n",
    "print(fibonacci(8))"
   ]
  },
  {
   "cell_type": "markdown",
   "metadata": {},
   "source": [
    "Write a Python program that multiply each number of given list with a given number "
   ]
  },
  {
   "cell_type": "code",
   "execution_count": 4,
   "metadata": {},
   "outputs": [
    {
     "name": "stdin",
     "output_type": "stream",
     "text": [
      "Enter a number 12\n"
     ]
    },
    {
     "name": "stdout",
     "output_type": "stream",
     "text": [
      "Original list:  [1, 5, 7, 3, 11]\n",
      "Given number:  12\n",
      "Result:\n",
      "12 60 84 36 132\n"
     ]
    }
   ],
   "source": [
    "nums = [1, 5, 7, 3 , 11]\n",
    "n = int(input(\"Enter a number\"))\n",
    "print(\"Original list: \", nums)\n",
    "print(\"Given number: \", n)\n",
    "filtered_numbers=list(map(lambda number:number*n,nums))\n",
    "print(\"Result:\")\n",
    "print(' '.join(map(str,filtered_numbers)))"
   ]
  },
  {
   "cell_type": "markdown",
   "metadata": {},
   "source": [
    "Write a Python program to find numbers divisible by 9 from a list of numbers "
   ]
  },
  {
   "cell_type": "code",
   "execution_count": 5,
   "metadata": {},
   "outputs": [
    {
     "name": "stdout",
     "output_type": "stream",
     "text": [
      "Numbers divisible by 9 are [9, 18, 45, 54]\n"
     ]
    }
   ],
   "source": [
    "nums = [9,12,15,18,45,54,98,107]\n",
    "solution = list(filter(lambda x: (x % 9 == 0), nums))\n",
    "print(\"Numbers divisible by 9 are\",solution)"
   ]
  },
  {
   "cell_type": "markdown",
   "metadata": {},
   "source": [
    "Write a Python program to count the even numbers in a given list of integers "
   ]
  },
  {
   "cell_type": "code",
   "execution_count": 15,
   "metadata": {},
   "outputs": [
    {
     "name": "stdout",
     "output_type": "stream",
     "text": [
      "given number is  [1, 3, 5, 2, 7, 25, 8, 9, 12, 16, 32]\n",
      "Even numbers in the list:  5\n"
     ]
    }
   ],
   "source": [
    "a =[1,3,5,2,7,25,8,9,12,16,32]\n",
    "counta=0\n",
    "print(\"given number is \",a)\n",
    "for i in a:\n",
    "    if i % 2 ==0:\n",
    "        counta +=1\n",
    "     \n",
    "print(\"Even numbers in the list: \", counta) \n"
   ]
  },
  {
   "cell_type": "code",
   "execution_count": null,
   "metadata": {},
   "outputs": [],
   "source": []
  },
  {
   "cell_type": "code",
   "execution_count": null,
   "metadata": {},
   "outputs": [],
   "source": []
  }
 ],
 "metadata": {
  "kernelspec": {
   "display_name": "Python 3",
   "language": "python",
   "name": "python3"
  },
  "language_info": {
   "name": ""
  }
 },
 "nbformat": 4,
 "nbformat_minor": 4
}
